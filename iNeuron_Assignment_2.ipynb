{
 "cells": [
  {
   "cell_type": "markdown",
   "metadata": {
    "id": "HtOWmG7Xy2Ov"
   },
   "source": [
    "#### 1. Create the below pattern using nested for loop in Python.\n",
    "\n",
    "#### *\n",
    "#### * *\n",
    "#### * * *\n",
    "#### * * * *\n",
    "#### * * * * *\n",
    "#### * * * *\n",
    "#### * * *\n",
    "#### * *\n",
    "#### *"
   ]
  },
  {
   "cell_type": "code",
   "execution_count": 1,
   "metadata": {
    "colab": {
     "base_uri": "https://localhost:8080/"
    },
    "id": "MG3ExDuvLXkc",
    "outputId": "309d94dd-ec0c-481f-f190-322c036f316f"
   },
   "outputs": [
    {
     "name": "stdout",
     "output_type": "stream",
     "text": [
      "Enter number of rows: 4\n",
      "* \n",
      "* * \n",
      "* * * \n",
      "* * * * \n",
      "* * * * * \n",
      "* * * * \n",
      "* * * \n",
      "* * \n",
      "* \n"
     ]
    }
   ],
   "source": [
    "#program to print the above pattern\n",
    "\n",
    "rows=int(input(\"Enter number of rows: \"))\n",
    "\n",
    "for i in range(1, rows+1):\n",
    "  print(\"* \"*i)\n",
    "\n",
    "for i in range(rows+1, 0, -1):\n",
    "  print(\"* \"*i)"
   ]
  },
  {
   "cell_type": "markdown",
   "metadata": {
    "id": "DSzV52BsMJUc"
   },
   "source": [
    "#### 2. Write a Python program to reverse a word after accepting the input from the user."
   ]
  },
  {
   "cell_type": "code",
   "execution_count": 6,
   "metadata": {
    "colab": {
     "base_uri": "https://localhost:8080/"
    },
    "id": "-IDJkK5dMOMM",
    "outputId": "61b4d4ed-cdf2-4b20-be51-46ddb0b58771"
   },
   "outputs": [
    {
     "name": "stdout",
     "output_type": "stream",
     "text": [
      "Enter the word: ineuron\n",
      "norueni\n"
     ]
    }
   ],
   "source": [
    "word=str(input(\"Enter the word: \"))\n",
    "print(word[::-1])"
   ]
  }
 ],
 "metadata": {
  "colab": {
   "name": "Nested Loops.ipynb",
   "provenance": []
  },
  "kernelspec": {
   "display_name": "Python 3",
   "language": "python",
   "name": "python3"
  },
  "language_info": {
   "codemirror_mode": {
    "name": "ipython",
    "version": 3
   },
   "file_extension": ".py",
   "mimetype": "text/x-python",
   "name": "python",
   "nbconvert_exporter": "python",
   "pygments_lexer": "ipython3",
   "version": "3.8.5"
  }
 },
 "nbformat": 4,
 "nbformat_minor": 1
}
